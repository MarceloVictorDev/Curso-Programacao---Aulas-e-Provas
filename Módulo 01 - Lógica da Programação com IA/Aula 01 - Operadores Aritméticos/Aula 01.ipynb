{
 "cells": [
  {
   "cell_type": "code",
   "execution_count": 16,
   "metadata": {},
   "outputs": [
    {
     "name": "stdout",
     "output_type": "stream",
     "text": [
      "hello world\n"
     ]
    }
   ],
   "source": [
    "saudacao = str(\"hello world\")\n",
    "print(saudacao)"
   ]
  },
  {
   "cell_type": "code",
   "execution_count": 17,
   "metadata": {},
   "outputs": [
    {
     "ename": "ValueError",
     "evalue": "invalid literal for int() with base 10: ''",
     "output_type": "error",
     "traceback": [
      "\u001b[0;31m---------------------------------------------------------------------------\u001b[0m",
      "\u001b[0;31mValueError\u001b[0m                                Traceback (most recent call last)",
      "Cell \u001b[0;32mIn[17], line 6\u001b[0m\n\u001b[1;32m      3\u001b[0m altura \u001b[38;5;241m=\u001b[39m \u001b[38;5;28mfloat\u001b[39m()\n\u001b[1;32m      5\u001b[0m nome \u001b[38;5;241m=\u001b[39m \u001b[38;5;28mstr\u001b[39m(\u001b[38;5;28minput\u001b[39m(\u001b[38;5;124m\"\u001b[39m\u001b[38;5;124mOlá, insira seu nome:\u001b[39m\u001b[38;5;124m\"\u001b[39m))\n\u001b[0;32m----> 6\u001b[0m idade \u001b[38;5;241m=\u001b[39m \u001b[38;5;28;43mint\u001b[39;49m\u001b[43m(\u001b[49m\u001b[38;5;28;43minput\u001b[39;49m\u001b[43m(\u001b[49m\u001b[38;5;124;43m\"\u001b[39;49m\u001b[38;5;124;43mDigite sua idade:\u001b[39;49m\u001b[38;5;124;43m\"\u001b[39;49m\u001b[43m)\u001b[49m\u001b[43m)\u001b[49m\n\u001b[1;32m      7\u001b[0m altura \u001b[38;5;241m=\u001b[39m \u001b[38;5;28mfloat\u001b[39m(\u001b[38;5;28minput\u001b[39m(\u001b[38;5;124m\"\u001b[39m\u001b[38;5;124mInsira sua altura\u001b[39m\u001b[38;5;124m\"\u001b[39m))\n\u001b[1;32m      9\u001b[0m \u001b[38;5;28mprint\u001b[39m(\u001b[38;5;124mf\u001b[39m\u001b[38;5;124m\"\u001b[39m\u001b[38;5;124mseu nome é: \u001b[39m\u001b[38;5;132;01m{\u001b[39;00mnome\u001b[38;5;132;01m}\u001b[39;00m\u001b[38;5;124m ,Sua idade é: \u001b[39m\u001b[38;5;132;01m{\u001b[39;00midade\u001b[38;5;132;01m}\u001b[39;00m\u001b[38;5;124m,Sua altura é: \u001b[39m\u001b[38;5;132;01m{\u001b[39;00maltura\u001b[38;5;132;01m}\u001b[39;00m\u001b[38;5;124m\"\u001b[39m)\n",
      "\u001b[0;31mValueError\u001b[0m: invalid literal for int() with base 10: ''"
     ]
    }
   ],
   "source": [
    "\n",
    "nome = str()\n",
    "idade = int()\n",
    "altura = float()\n",
    "\n",
    "nome = str(input(\"Olá, insira seu nome:\"))\n",
    "idade = int(input(\"Digite sua idade:\"))\n",
    "altura = float(input(\"Insira sua altura\"))\n",
    "    \n",
    "print(f\"seu nome é: {nome} ,Sua idade é: {idade},Sua altura é: {altura}\")\n",
    "print(f\"{nome} = type(nome)\")\n",
    "print(f\"{idade}type(idade)\")\n",
    "print(f\"{idade}type(altura)\")"
   ]
  },
  {
   "cell_type": "code",
   "execution_count": null,
   "metadata": {},
   "outputs": [],
   "source": []
  },
  {
   "cell_type": "code",
   "execution_count": null,
   "metadata": {},
   "outputs": [],
   "source": [
    "\n",
    "nome = str()\n",
    "idade = int()\n",
    "altura = float()\n",
    "\n",
    "nome = str(input(\"Olá, insira seu nome:\"))\n",
    "idade = int(input(\"Digite sua idade:\"))\n",
    "altura = float(input(\"Insira sua altura\"))\n",
    "    \n",
    "print(f\"seu nome é: {nome} ,Sua idade é: {idade},Sua altura é: {altura}\")\n",
    "print(f\"{nome} = type(nome)\")\n",
    "print(f\"{idade}type(idade)\")\n",
    "print(f\"{idade}type(altura)\")"
   ]
  },
  {
   "cell_type": "code",
   "execution_count": null,
   "metadata": {},
   "outputs": [],
   "source": [
    "#Atividade 04 notas bimestrais\n",
    "nota1 = float(input(\"Por favor, digite a nota do PRIMEIRO bimestre: \"))\n",
    "nota2 = float(input(\"Por favor, digite a nota do SEGUNDO bimestre: \"))\n",
    "nota3 = float(input(\"Por favor, digite a nota do TERCEIRO bimestre: \"))\n",
    "nota4 = float(input(\"Por favor, digite a nota do QUARTO bimestre: \"))\n",
    "\n",
    "media = (nota1 + nota2 + nota3 + nota4) / 4\n",
    "\n",
    "print(f\"A média dos seus 04 bimestres foi: {media}\")"
   ]
  },
  {
   "cell_type": "code",
   "execution_count": 2,
   "metadata": {},
   "outputs": [
    {
     "name": "stdout",
     "output_type": "stream",
     "text": [
      "Seu salário por hora é: 0.125\n"
     ]
    }
   ],
   "source": [
    "#Atividade salário hora\n",
    "dias = 20\n",
    "\n",
    "salario_mensal = float(input(\"Qual seu salário mensal?\"))\n",
    "horas_semana = float(input(\"Quantas horas você trabalha na semana?\"))\n",
    "\n",
    "n_horasmes = horas_semana * 4\n",
    "salario_hora = salario_mensal / n_horasmes\n",
    "\n",
    "print(f\"Seu salário por hora é: {salario_hora}\")"
   ]
  },
  {
   "cell_type": "code",
   "execution_count": null,
   "metadata": {},
   "outputs": [],
   "source": [
    "\n",
    "#Atividade Cidade natal\n",
    "nome = input(\"Qual é o seu nome? \")\n",
    "idade = int(input(\"Qual sua idade?\"))\n",
    "cidade = input(\"Qual sua cidade natal?\")\n",
    "\n",
    "print(f\"Seu nome é {nome}, sua idade é {idade}, Sua cidade natal é: {cidade}\")"
   ]
  }
 ],
 "metadata": {
  "kernelspec": {
   "display_name": "Python 3",
   "language": "python",
   "name": "python3"
  },
  "language_info": {
   "codemirror_mode": {
    "name": "ipython",
    "version": 3
   },
   "file_extension": ".py",
   "mimetype": "text/x-python",
   "name": "python",
   "nbconvert_exporter": "python",
   "pygments_lexer": "ipython3",
   "version": "3.9.6"
  }
 },
 "nbformat": 4,
 "nbformat_minor": 2
}
